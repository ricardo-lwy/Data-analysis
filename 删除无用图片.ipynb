{
 "cells": [
  {
   "cell_type": "code",
   "execution_count": null,
   "metadata": {},
   "outputs": [],
   "source": [
    "\n",
    "#####18/10/2022\n",
    "###使用图片识别技术找到无用图片并且删除它\n",
    "##1.尝试采用平均hash方法计算汉明距离\n",
    "#####库\n",
    "import send2trash\n",
    "import os\n",
    "import cv2\n",
    "import numpy as np\n",
    "from PIL import Image\n",
    "import requests\n",
    "from io import BytesIO\n",
    "import matplotlib\n",
    "matplotlib.use('TkAgg')\n",
    "import matplotlib.pyplot as plt\n",
    "\n",
    "\n",
    "\n",
    "###ahash算法获取图片的ahash码\n",
    "def ahash(img):\n",
    "    #1.转化成8*8像素\n",
    "    img=cv2.resize(img,(8,8))\n",
    "    #2.转化为灰度图\n",
    "    gray=cv2.cvtColor(img,cv2.COLOR_BGR2GRAY)\n",
    "    #4.通过每一个像素与平均值对比，得出ahash值\n",
    "    s=0\n",
    "    hash_str=''\n",
    "    ##先求平均值\n",
    "    for i in range(8):\n",
    "        for j in range(8):\n",
    "            #sum\n",
    "            s=s+gray[i,j]\n",
    "    avg=s/64\n",
    "    #再遍历一遍得出hash码\n",
    "    for i in range(8):\n",
    "        for j in range(8):\n",
    "            if gray[i, j] > avg:\n",
    "                hash_str = hash_str+'1'\n",
    "            else:\n",
    "                hash_str = hash_str+'0'\n",
    "    return hash_str\n",
    "\n",
    "#5.通过两个图片的不同ahash值进行比对，得出汉明距离，一般小于十则认为为相似图片\n",
    "def compare(hash1,hash2):\n",
    "    diff=0\n",
    "    if len(hash1)!=len(hash2):\n",
    "        return -1\n",
    "    for i in range(len(hash1)):\n",
    "        if hash1[i]!=hash2[i]:\n",
    "            diff+=1\n",
    "    return diff\n",
    "\n",
    "###main###################################\n",
    "pathexemple='D:\\\\1.jpg'\n",
    "##先将路径转化为图片\n",
    "########19/10/2022 晕了，路径中带法语要进行解码操作才可以正确读取\n",
    "#########exp_img = cv2.imread(pathexemple)就没有用了\n",
    "##先将路径转化为图片\n",
    "exp_img = cv2.imdecode(np.fromfile(pathexemple,dtype=np.uint8),-1)\n",
    "###示例图片的ahash\n",
    "exp_ahash=ahash(exp_img)\n",
    "#同样，如果要保存图像为中文文件名，则将cv2.imwrite(output_image_path, image)替换为cv2.imencode('.jpg', image)[1].tofile(output_image_path)即可。\n",
    "###19/10/2022成功实现！！！！！\n",
    "\n",
    "pathmain='D:\\\\mannequin18102022autodel'\n",
    "for root, dirs, files in os.walk('D:\\\\mannequin18102022autodel'):#图片文件夹路径.三个类型要一起嵌套\n",
    "    for name in files:#for循环删除文件,进行对比\n",
    "        ###不能直接读名字，要加路径\n",
    "        fullpath='D:\\\\mannequin18102022autodel\\\\'+name\n",
    "        img1=cv2.imdecode(np.fromfile(fullpath,dtype=np.uint8),-1)\n",
    "        ahash1=ahash(img1)\n",
    "        comres=compare(ahash1,exp_ahash)\n",
    "        #类似图片\n",
    "        if(comres<10):\n",
    "            ##用send2trash方法会更安全\n",
    "            send2trash.send2trash(os.path.join(root, name))\n",
    "            #os.remove(os.path.join(root, name))\n",
    "            print(\"删除无用图片\")\n",
    "            \n",
    "\n",
    "\n",
    "\n"
   ]
  },
  {
   "cell_type": "code",
   "execution_count": null,
   "metadata": {},
   "outputs": [],
   "source": [
    "######以下均为logs##########################################################################"
   ]
  },
  {
   "cell_type": "code",
   "execution_count": null,
   "metadata": {},
   "outputs": [],
   "source": [
    "pathmain='D:\\\\mannequin18102022autodel'\n",
    "for root, dirs, files in os.walk('D:\\\\mannequin18102022autodel'):#图片文件夹路径.三个类型要一起嵌套\n",
    "    for name in files:#for循环删除文件,进行对比\n",
    "        fullpath='D:\\\\mannequin18102022autodel\\\\'+name\n",
    "        img=cv2.imread(fullpath)\n",
    "        print(img)\n"
   ]
  },
  {
   "cell_type": "code",
   "execution_count": null,
   "metadata": {},
   "outputs": [],
   "source": [
    "b = 0#定义一个数文件数量的变量\n",
    "for root, dirs, files in os.walk('D:\\\\mannequin18102022autodel'):#图片文件夹路径.三个类型要一起嵌套\n",
    "    for name in files:#for循环删除文件\n",
    "        if name.endswith(\".jpg\"):#.jpg可以换成另一种你想删除的文件后缀名\n",
    "            b += 1\n",
    "            os.remove(os.path.join(root, name))#删除后缀为.jpg的文件\n",
    "            print(\"Delete File: \" + os.path.join(root, name))#告诉你你删除的每个文件文件名都是什么\n",
    "\n",
    "print(b)#告诉你总共删除了多少个文件\n",
    "\n"
   ]
  },
  {
   "cell_type": "code",
   "execution_count": null,
   "metadata": {},
   "outputs": [],
   "source": [
    "pathmain='D:\\\\mannequin18102022autodel'\n",
    "for root, dirs, files in  os.walk('D:\\\\mannequin18102022autodel'):\n",
    "    print(root)\n",
    "    print(dirs)\n",
    "    print(files)"
   ]
  },
  {
   "cell_type": "code",
   "execution_count": null,
   "metadata": {},
   "outputs": [],
   "source": [
    "'''pathexemple='D:\\\\mannequin18102022autodel\\\\chaine-acier-inoxydable-doré-mannequin1.jpg'\n",
    "##先将路径转化为图片\n",
    "exp_img = cv2.imdecode(np.fromfile(pathexemple,dtype=np.uint8),-1)\n",
    "exp_ahash=ahash(exp_img)\n",
    "print(exp_ahash)\n",
    "'''\n",
    "send2trash.send2trash(\"D:\\\\2.jpg\")"
   ]
  }
 ],
 "metadata": {
  "kernelspec": {
   "display_name": "Python 3.9.0 64-bit",
   "language": "python",
   "name": "python3"
  },
  "language_info": {
   "codemirror_mode": {
    "name": "ipython",
    "version": 3
   },
   "file_extension": ".py",
   "mimetype": "text/x-python",
   "name": "python",
   "nbconvert_exporter": "python",
   "pygments_lexer": "ipython3",
   "version": "3.9.0"
  },
  "orig_nbformat": 4,
  "vscode": {
   "interpreter": {
    "hash": "4f95cac2866d48a154725f15da66ad3889a01053732bcd1fedad154961939282"
   }
  }
 },
 "nbformat": 4,
 "nbformat_minor": 2
}
