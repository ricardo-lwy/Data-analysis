{
 "cells": [
  {
   "cell_type": "code",
   "execution_count": 1,
   "metadata": {},
   "outputs": [],
   "source": [
    "####尝试整理excel中的图片\n",
    "\n",
    "\n",
    "from asyncio.windows_events import NULL\n",
    "from bs4 import BeautifulSoup  # this module helps in web scrapping.\n",
    "import requests  # this module helps us to download a web page \n",
    "from pandas.core.frame import DataFrame\n",
    "from email.mime import image\n",
    "from openpyxl import load_workbook\n",
    "import pandas as pd\n",
    "import re\n",
    "import urllib.request\n",
    "###先读取数据\n",
    "\n",
    "###图片下载\n",
    "def download_img(url,file_name):\n",
    "    res = requests.get(url)\n",
    "    img = open(file_name, 'wb')\n",
    "    img.write(res.content)\n",
    "    img.close()\n",
    "\n",
    "\n",
    "\n",
    "df = pd.read_excel('DATA.xlsx', sheet_name='Sheet1')\n",
    "savePath = 'D:\\picture//'"
   ]
  },
  {
   "cell_type": "code",
   "execution_count": 2,
   "metadata": {},
   "outputs": [
    {
     "data": {
      "text/plain": [
       "225"
      ]
     },
     "execution_count": 2,
     "metadata": {},
     "output_type": "execute_result"
    }
   ],
   "source": [
    "sumline=len(df)\n",
    "sumline"
   ]
  },
  {
   "cell_type": "code",
   "execution_count": 3,
   "metadata": {},
   "outputs": [],
   "source": [
    "for i in range(0, sumline):\n",
    "    ###每一行\n",
    "    nowrow=df.values[i]\n",
    "    for j in range (0,5):\n",
    "        ###图片位置【1 3 5 7 9】#print(2*j+1)\n",
    "        ###图片命名【2，4，6，8，10】#print(2*j+2)\n",
    "        try:\n",
    "            imgurl=nowrow[2*j+1]\n",
    "            imgname=nowrow[2*j+2]+'.jpg'\n",
    "            ##直接通过图片url下载图片\n",
    "            urllib.request.urlretrieve(imgurl,savePath+imgname)\n",
    "        except:\n",
    "            print(\"链接无效，可能是为空或者换链接了\")\n",
    "            pass\n",
    "    \n",
    "\n",
    "        \n",
    "\n",
    "\n"
   ]
  },
  {
   "cell_type": "code",
   "execution_count": 6,
   "metadata": {},
   "outputs": [
    {
     "data": {
      "text/plain": [
       "'https://cdn.shopify.com/s/files/1/0076/0961/4403/products/bracelet-betty-bracelet-bohm-paris-vert-fonce-435511.jpg?v=1631098365'"
      ]
     },
     "execution_count": 6,
     "metadata": {},
     "output_type": "execute_result"
    }
   ],
   "source": [
    "rowsku = df.values[0][1]\n",
    "rowsku"
   ]
  },
  {
   "cell_type": "code",
   "execution_count": 14,
   "metadata": {},
   "outputs": [
    {
     "name": "stdout",
     "output_type": "stream",
     "text": [
      "https://cdn.shopify.com/s/files/1/0076/0961/4403/products/bracelet-betty-bracelet-bohm-paris-vert-fonce-435511.jpg?v=1631098365\n"
     ]
    },
    {
     "name": "stderr",
     "output_type": "stream",
     "text": [
      "c:\\Users\\simon\\AppData\\Local\\Programs\\Python\\Python39\\lib\\site-packages\\bs4\\__init__.py:404: MarkupResemblesLocatorWarning: The input looks more like a URL than markup. You may want to use an HTTP client like requests to get the document behind the URL, and feed that document to Beautiful Soup.\n",
      "  warnings.warn(\n"
     ]
    }
   ],
   "source": [
    "soup = BeautifulSoup(imgurl,'html.parser')\n",
    "print(soup)"
   ]
  },
  {
   "cell_type": "code",
   "execution_count": null,
   "metadata": {},
   "outputs": [],
   "source": []
  },
  {
   "cell_type": "code",
   "execution_count": null,
   "metadata": {},
   "outputs": [],
   "source": []
  }
 ],
 "metadata": {
  "kernelspec": {
   "display_name": "Python 3.9.0 64-bit",
   "language": "python",
   "name": "python3"
  },
  "language_info": {
   "codemirror_mode": {
    "name": "ipython",
    "version": 3
   },
   "file_extension": ".py",
   "mimetype": "text/x-python",
   "name": "python",
   "nbconvert_exporter": "python",
   "pygments_lexer": "ipython3",
   "version": "3.9.0"
  },
  "orig_nbformat": 4,
  "vscode": {
   "interpreter": {
    "hash": "4f95cac2866d48a154725f15da66ad3889a01053732bcd1fedad154961939282"
   }
  }
 },
 "nbformat": 4,
 "nbformat_minor": 2
}
