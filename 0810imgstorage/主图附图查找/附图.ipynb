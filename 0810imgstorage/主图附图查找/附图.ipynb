{
 "cells": [
  {
   "cell_type": "code",
   "execution_count": 1,
   "metadata": {},
   "outputs": [],
   "source": [
    "\n",
    "#####库\n",
    "from bs4 import BeautifulSoup  # this module helps in web scrapping.\n",
    "import urllib.request\n",
    "import re\n",
    "import pandas as pd\n",
    "from pandas.core.frame import DataFrame\n",
    "from openpyxl.writer.excel import ExcelWriter\n",
    "from lxml import etree\n",
    "import requests  # 模拟浏览器请求的库\n",
    "from ast import Break\n",
    "import json\n",
    "\n",
    "header = {\n",
    "    'user-agent': 'Mozilla/5.0(Macinatosh;Intel Mac OS X 10_13_6)Applewebkit/537.36(KHTML,like Gecko)Chrome/81.0.4044.138 Safari/537.36',\n",
    "}\n",
    "\n"
   ]
  },
  {
   "cell_type": "code",
   "execution_count": 2,
   "metadata": {},
   "outputs": [],
   "source": [
    "\n",
    "###我们需要的sku信息\n",
    "###input : sku 的url链接    和    sku对应的url命名  两样\n",
    "#####output ： sku对应的附图\n",
    "\n",
    "url=[\n",
    "\n",
    "\"https://bohm-paris.com/products/bracelet-bohm-paris-peneloppe\"\n",
    "\n",
    "\n",
    "]\n",
    "\n",
    "url_name=[\n",
    "\n",
    "\"Bracelet-Chaine-Acier-Inox\"\n",
    "\n",
    "\n",
    "\n",
    "]\n",
    "\n",
    "savepath='D:\\mannequin12102022//'"
   ]
  },
  {
   "cell_type": "code",
   "execution_count": 3,
   "metadata": {},
   "outputs": [
    {
     "name": "stdout",
     "output_type": "stream",
     "text": [
      "主图的src为：https://cdn.shopify.com/s/files/1/0076/0961/4403/products/bracelet-peneloppe-bracelet-bohm-paris-dore-886466.jpg?v=1631096004\n",
      "附图名字长度为：38\n",
      "开始查找\n",
      "43\n",
      "Bracelet Pénéloppe Bracelet Bohm Paris Doré\n",
      "38\n",
      "Bracelet Pénéloppe Bracelet Bohm Paris\n",
      "find mannequin img\n",
      "其为https://cdn.shopify.com/s/files/1/0076/0961/4403/products/bracelet-peneloppe-bracelet-bohm-paris-152594.jpg?v=1631110549\n",
      "38\n",
      "Bracelet Pénéloppe Bracelet Bohm Paris\n",
      "find mannequin img\n",
      "其为https://cdn.shopify.com/s/files/1/0076/0961/4403/products/bracelet-peneloppe-bracelet-bohm-paris-575747.jpg?v=1631098269\n",
      "38\n",
      "Bracelet Pénéloppe Bracelet Bohm Paris\n",
      "find mannequin img\n",
      "其为https://cdn.shopify.com/s/files/1/0076/0961/4403/products/bracelet-peneloppe-bracelet-bohm-paris-894251.jpg?v=1631094870\n",
      "46\n",
      "Bracelet Pénéloppe Bracelet Bohm Paris Argenté\n",
      "38\n",
      "Bracelet Pénéloppe Bracelet Bohm Paris\n",
      "find mannequin img\n",
      "其为https://cdn.shopify.com/s/files/1/0076/0961/4403/products/bracelet-peneloppe-bracelet-bohm-paris-861791.jpg?v=1631092714\n"
     ]
    }
   ],
   "source": [
    "#text/javascript\n",
    "from time import sleep\n",
    "\n",
    "\n",
    "for i in range (0,len(url)):\n",
    "    sleep(2)\n",
    "    soup = BeautifulSoup(requests.get(url[i]).text, \"html.parser\")\n",
    "    jsontest = soup.find('script',{\"type\": \"application/json\",\"sa-product-json\":\"true\"})#, \n",
    "    #jsondata=json.loads(jsontest.string)\n",
    "    #sku=jsondata.get('sku')\n",
    "    jsondata=json.loads(jsontest.string)\n",
    "    mainimg=jsondata.get('featured_image')\n",
    "    mainimg='https:'+mainimg\n",
    "    print(\"主图的src为：%s\"%mainimg)    \n",
    "    ###图片的数组流\n",
    "    imgarr=jsondata.get('media')\n",
    "    minlength=1000\n",
    "    ###先找到最小命名长度\n",
    "    for j in range(0,len(imgarr)):\n",
    "        if(len(imgarr[j].get('alt'))<minlength):\n",
    "            minlength=len(imgarr[j].get('alt'))\n",
    "    print(\"附图名字长度为：%s\"%minlength)\n",
    "    print(\"开始查找\")\n",
    "\n",
    "    ###返回出的最小长度可以直接套用\n",
    "    count=0\n",
    "    for k in range(0,len(imgarr)):\n",
    "        print(len(imgarr[k].get('alt')))\n",
    "        print(imgarr[k].get('alt'))\n",
    "        nowlength=int(len(imgarr[k].get('alt')))\n",
    "        \n",
    "        ###找到模特图\n",
    "        if(imgarr[k].get('src')!=mainimg and nowlength==minlength):\n",
    "            ###准备下载\n",
    "            count=count+1\n",
    "            print(\"find mannequin img\")\n",
    "            imgurl=imgarr[k].get('src')\n",
    "            print(\"其为%s\"%imgurl)\n",
    "            imgname=url_name[i]+\"-mannequin%s\"%count+'.jpg'\n",
    "            urllib.request.urlretrieve(imgurl,savepath+imgname)\n",
    "    \n"
   ]
  }
 ],
 "metadata": {
  "kernelspec": {
   "display_name": "Python 3.9.0 64-bit",
   "language": "python",
   "name": "python3"
  },
  "language_info": {
   "codemirror_mode": {
    "name": "ipython",
    "version": 3
   },
   "file_extension": ".py",
   "mimetype": "text/x-python",
   "name": "python",
   "nbconvert_exporter": "python",
   "pygments_lexer": "ipython3",
   "version": "3.9.0"
  },
  "orig_nbformat": 4,
  "vscode": {
   "interpreter": {
    "hash": "4f95cac2866d48a154725f15da66ad3889a01053732bcd1fedad154961939282"
   }
  }
 },
 "nbformat": 4,
 "nbformat_minor": 2
}
