{
 "cells": [
  {
   "cell_type": "code",
   "execution_count": 1,
   "metadata": {},
   "outputs": [
    {
     "name": "stderr",
     "output_type": "stream",
     "text": [
      "C:\\Users\\simon\\AppData\\Local\\Temp\\ipykernel_13044\\3110723348.py:23: DeprecationWarning: use options instead of chrome_options\n",
      "  browser= webdriver.Chrome(chrome_options=options)\n"
     ]
    }
   ],
   "source": [
    "###子sku部分\n",
    "####27/10/2022可以通过这个找到库存更新的方法\n",
    "\n",
    "\n",
    "\n",
    "########库文件\n",
    "from asyncio.windows_events import NULL\n",
    "import requests \n",
    "from pandas.core.frame import DataFrame\n",
    "import re\n",
    "import pandas as pd\n",
    "from os import times\n",
    "import urllib.error\n",
    "from selenium.webdriver.common.keys import Keys  # 模仿键盘,操作下拉框的\n",
    "from bs4 import BeautifulSoup  \n",
    "from selenium import webdriver\n",
    "import time\n",
    "from selenium.webdriver.common.by import By\n",
    "\n",
    "\n",
    "options = webdriver.ChromeOptions()\n",
    "options.binary_location = \"C:\\\\Program Files\\\\Google\\\\Chrome\\\\Application\\\\chrome.exe\"\n",
    "browser= webdriver.Chrome(chrome_options=options)\n",
    "browser.get(\"https://websiteseochecker.com/check-history-of-domain-authority/\")\n",
    "\n",
    "\n",
    "\n",
    "####结果生成一个数组，定义一个比较法则\n",
    "####定义一个判断数组（即网站是否符合规范）的函数\n",
    "\n",
    "def check_array(arr):\n",
    "    return int(all(abs(arr[i] - arr[i+1]) <= 10 for i in range(len(arr)-1)))\n",
    "\n",
    "\n",
    "RESULT=[]\n",
    "\n"
   ]
  },
  {
   "cell_type": "code",
   "execution_count": null,
   "metadata": {},
   "outputs": [],
   "source": [
    "####!INPUT\n",
    "#################\n",
    "URLS=[\n",
    "\n",
    "\"http://stevemindmagicien.fr\",\n",
    "\"http://justfocus.fr\",\n",
    "\"http://in-et-out.fr\",\n",
    "\"http://ioniseurs.fr\",\n",
    "\"http://blog2mode.com\",\n",
    "\"http://lesbabillagesdebabinette.com\",\n",
    "\"http://whatsuptiger.fr\",\n",
    "\"http://latribunedusport.fr\",\n",
    "\"http://animagora.fr\",\n",
    "\"http://lebreakbeaute.fr\",\n",
    "\"http://whatsuptiger.fr\",\n",
    "\"http://animagora.fr\",\n",
    "\"http://grazia.fr\",\n",
    "\"http://guidedesvacances.fr\",\n",
    "\"http://youtube.com\",\n",
    "\"http://pagesdor.be\",\n",
    "\"http://belgiquebd.com\",\n",
    "\n",
    "]\n",
    "\n"
   ]
  },
  {
   "cell_type": "code",
   "execution_count": null,
   "metadata": {},
   "outputs": [],
   "source": [
    "\n",
    "for indexurl in range(0,len(URLS)):\n",
    "    #clear!\n",
    "    browser.find_element(By.XPATH,\"/html/body/div[1]/div/div/div[2]/form/p/input\").clear()\n",
    "    browser.find_element(By.XPATH,\"/html/body/div[1]/div/div/div[2]/form/p/input\").send_keys(URLS[indexurl])\n",
    "    browser.find_element(By.XPATH,\"/html/body/div[1]/div/div/div[2]/form/div[1]/div[1]/input\").click()\n",
    "    soup=BeautifulSoup(browser.page_source,\"html.parser\")\n",
    "    Table_array=soup.findAll(\"a\",{\"target\":\"_blank\"})\n",
    "    ####find table-array success \n",
    "\n",
    "\n",
    "    ###tempoary arr\n",
    "    tem_arr=[]\n",
    "    for i in range(1,len(Table_array)):\n",
    "        tem_arr.append(int(Table_array[i].string))\n",
    "    #print(tem_arr)\n",
    "    res=\"是\" if check_array(tem_arr)==0 else \"否\"\n",
    "    RESULT.append(res)\n",
    "\n",
    "\n",
    "\n",
    "\n"
   ]
  },
  {
   "cell_type": "code",
   "execution_count": null,
   "metadata": {},
   "outputs": [],
   "source": [
    "df=DataFrame({\"URL\":URLS,\"RESULT\":RESULT})"
   ]
  },
  {
   "cell_type": "code",
   "execution_count": null,
   "metadata": {},
   "outputs": [],
   "source": [
    "df.to_excel(\"RESULT_da_Fluctuations.xlsx\")"
   ]
  }
 ],
 "metadata": {
  "kernelspec": {
   "display_name": "Python 3",
   "language": "python",
   "name": "python3"
  },
  "language_info": {
   "codemirror_mode": {
    "name": "ipython",
    "version": 3
   },
   "file_extension": ".py",
   "mimetype": "text/x-python",
   "name": "python",
   "nbconvert_exporter": "python",
   "pygments_lexer": "ipython3",
   "version": "3.11.0 (main, Oct 24 2022, 18:26:48) [MSC v.1933 64 bit (AMD64)]"
  },
  "orig_nbformat": 4,
  "vscode": {
   "interpreter": {
    "hash": "c261aea317cc0286b3b3261fbba9abdec21eaa57589985bb7a274bf54d6cc0a7"
   }
  }
 },
 "nbformat": 4,
 "nbformat_minor": 2
}
