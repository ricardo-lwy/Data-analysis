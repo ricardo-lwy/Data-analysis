{
 "cells": [
  {
   "cell_type": "code",
   "execution_count": null,
   "metadata": {},
   "outputs": [],
   "source": [
    "########库文件\n",
    "from asyncio.windows_events import NULL\n",
    "import requests  # this module helps us to download a web page \n",
    "from pandas.core.frame import DataFrame\n",
    "import re\n",
    "import pandas as pd\n",
    "from os import times\n",
    "import urllib.error\n",
    "from selenium.webdriver.common.keys import Keys  # 模仿键盘,操作下拉框的\n",
    "from bs4 import BeautifulSoup  # 解析html的\n",
    "from selenium import webdriver\n",
    "import time\n",
    "from selenium.webdriver.common.by import By\n",
    "\n",
    "\n",
    "\n",
    "###25/10/2022目前是半自动模式\n",
    "options = webdriver.ChromeOptions()\n",
    "options.binary_location = \"C:\\\\Program Files\\\\Google\\\\Chrome\\\\Application\\\\chrome.exe\"\n",
    "browser= webdriver.Chrome(chrome_options=options)\n",
    "browser.get(\"https://www.bohmbijoux.com/fr/catalogue/33\")\n",
    "##到这里填写密码完以后要再访问一次\n",
    "\n",
    "\n",
    "\n"
   ]
  },
  {
   "cell_type": "code",
   "execution_count": null,
   "metadata": {},
   "outputs": [],
   "source": [
    "###尝试通过点击登录标签进行登录操作\n",
    "browser.find_element(By.XPATH,\"/html/body/section/div[2]/a\").click()\n",
    "####进入登录界面    准备输入账号密码\n",
    "account=\"\"\n",
    "pwd=\"\"\n",
    "browser.find_element(By.XPATH,\"/html/body/section/div[3]/form/input[2]\").send_keys(account)\n",
    "browser.find_element(By.XPATH,\"/html/body/section/div[3]/form/input[3]\").send_keys(pwd)\n",
    "browser.find_element(By.XPATH,\"/html/body/section/div[3]/form/input[4]\").click()\n"
   ]
  },
  {
   "cell_type": "code",
   "execution_count": null,
   "metadata": {},
   "outputs": [],
   "source": [
    "##访问后执行js命令\n",
    "browser.get(\"https://www.bohmbijoux.com/fr/catalogue/33\")\n",
    "js = '''\n",
    "                let height = 0\n",
    "        let interval = setInterval(() => {\n",
    "            window.scrollTo({\n",
    "                top: height,\n",
    "                behavior: \"smooth\"\n",
    "            });\n",
    "            height += 5000\n",
    "        }, 500);\n",
    "        setTimeout(() => {\n",
    "            clearInterval(interval)\n",
    "        }, 7000);\n",
    "'''\n",
    "browser.execute_script(js)\n",
    "time.sleep(15)\n",
    "bs = BeautifulSoup(browser.page_source, \"html.parser\")\n",
    "##爬取数据部分完毕，现在来进行处理数据的部分"
   ]
  },
  {
   "cell_type": "code",
   "execution_count": null,
   "metadata": {},
   "outputs": [],
   "source": [
    "#建立需要的六个参数数组\n",
    "IMGLINK=[]\n",
    "NOM=[]\n",
    "LIEN=[]\n",
    "DESC=[]\n",
    "PRIX=[]\n",
    "SKU=[]\n",
    "\n",
    "\n",
    "\n",
    "\n",
    "productlen=len(bs.findAll(\"p\",{\"class\":\"catalogue-content_article_item_info_title\"}))\n",
    "##先做名字，sku以及价格\n",
    "allname=bs.findAll(\"p\",{\"class\":\"catalogue-content_article_item_info_title\"})\n",
    "allsku=bs.findAll(\"span\",{\"class\":\"catalogue-content_article_item_info_ref_txt\"})\n",
    "allprice=bs.findAll(\"span\",{\"class\":\"catalogue-content_article_item_info_price_txt\"})\n",
    " ##蕴含了图片和链接的信息块\n",
    "block=bs.findAll(\"ul\",{\"class\":\"catalogue-content_article_item_img\"})\n",
    "\n",
    "for i in range (0,productlen):\n",
    "    nowname=allname[i].string\n",
    "    nowsku=allsku[i].string\n",
    "    nowprice=re.findall(r\"\\d+\\,?\\d*\",allprice[i].string)[0]\n",
    "   # NOM.append(nowname)\n",
    "    #SKU.append(nowsku)\n",
    "    #PRIX.append(nowprice)\n",
    "\n",
    "   \n",
    "    nowlien='https://www.bohmbijoux.com/fr/catalogue/33#product/'+block[i][\"data-product-id\"]\n",
    "    #print(nowlien\n",
    "    # )\n",
    "    ###图片中有jpg和jpeg要区分开来\n",
    "    nowimg=re.findall(\"h.*'\",block[i][\"style\"])[0][:-1]\n",
    "    \n",
    "    ##现在将他们放到数组中，我们开始使用request技术来寻找产品的描述\n",
    "    \n",
    "\n",
    "    NOM.append(nowname)\n",
    "    SKU.append(nowsku)\n",
    "    PRIX.append(nowprice)\n",
    "    LIEN.append(nowlien)\n",
    "    IMGLINK.append(nowimg)\n",
    "\n",
    "    \n",
    "\n",
    "\n"
   ]
  },
  {
   "cell_type": "code",
   "execution_count": null,
   "metadata": {},
   "outputs": [],
   "source": [
    "##用了一个动作小一点的js动作\n",
    "js2 = '''\n",
    "                let height = 0\n",
    "        let interval = setInterval(() => {\n",
    "            window.scrollTo({\n",
    "                top: height,\n",
    "                behavior: \"smooth\"\n",
    "            });\n",
    "            height += 50\n",
    "        }, 1500);\n",
    "        setTimeout(() => {\n",
    "            clearInterval(interval)\n",
    "        }, 700);\n",
    "'''\n",
    "\n",
    "\n",
    "\n",
    "#productlen\n",
    "\n",
    "from time import sleep\n",
    "\n",
    "\n",
    "for j in range(0,productlen):\n",
    "    browser.get(LIEN[j])\n",
    "    browser.execute_script(js2)\n",
    "    sleep(2)\n",
    "    soup=BeautifulSoup(browser.page_source,\"html.parser\")\n",
    "    descstock=soup.find(\"div\",{\"class\":\"catalogue-content_article_item_info_details_description_txt\"})\n",
    "    ####删除字符串不必要的部分\n",
    "    nowdesc=str(descstock).replace(\"\\n\", \"\")\n",
    "    ##描述部分\n",
    "    DESC.append(nowdesc)\n",
    "    \n",
    "\n"
   ]
  },
  {
   "cell_type": "code",
   "execution_count": null,
   "metadata": {},
   "outputs": [],
   "source": [
    "dfres=DataFrame({\"产品名字\":NOM,\"产品sku\":SKU,\"产品价格\":PRIX,\"产品链接\":LIEN,\"产品图片\":IMGLINK,\"产品描述\":DESC})"
   ]
  },
  {
   "cell_type": "code",
   "execution_count": null,
   "metadata": {},
   "outputs": [],
   "source": [
    "dfres"
   ]
  },
  {
   "cell_type": "code",
   "execution_count": null,
   "metadata": {},
   "outputs": [],
   "source": [
    "dfres.to_excel(\"25102022newproduct.xlsx\",index=False)\n"
   ]
  },
  {
   "cell_type": "code",
   "execution_count": null,
   "metadata": {},
   "outputs": [],
   "source": []
  },
  {
   "cell_type": "code",
   "execution_count": null,
   "metadata": {},
   "outputs": [],
   "source": [
    "#######以下均为logs\n",
    "#############################\n",
    "##############################"
   ]
  },
  {
   "cell_type": "code",
   "execution_count": null,
   "metadata": {},
   "outputs": [],
   "source": [
    "re.findall(\"http.*jpg\",block[i][\"style\"])[0]"
   ]
  },
  {
   "cell_type": "code",
   "execution_count": null,
   "metadata": {},
   "outputs": [],
   "source": [
    "##所有的名字块\n",
    "productlen=len(bs.findAll(\"p\",{\"class\":\"catalogue-content_article_item_info_title\"}))\n",
    "###图片块示例   目前在映射正确暂时不考虑命名问题\n",
    "re.findall(\"http.*jpg\",bs.find(\"ul\",{\"class\":\"catalogue-content_article_item_img\"})[\"style\"])[0]\n",
    "\n",
    "#####价格\n",
    "bs.findAll(\"p\",{\"class\":\"catalogue-content_article_item_info_price\"})\n",
    "\n",
    "###SKU\n",
    "bs.findAll(\"p\",{\"class\":\"catalogue-content_article_item_info_ref\"})\n",
    "\n",
    "###lien    #这个可以和图片一起做\n",
    "\n",
    "###desc 这个要用lien中的信息整合一遍再做\n"
   ]
  },
  {
   "cell_type": "code",
   "execution_count": null,
   "metadata": {},
   "outputs": [],
   "source": [
    "from selenium import webdriver\n",
    "import time\n",
    "from selenium.webdriver.common.by import By\n",
    "options = webdriver.ChromeOptions()\n",
    "options.binary_location = \"C:\\\\Program Files\\\\Google\\\\Chrome\\\\Application\\\\chrome.exe\"\n",
    "browser= webdriver.Chrome(chrome_options=options)\n",
    "browser.get(\"https://www.bohmbijoux.com/fr/catalogue/33\")\n",
    "#name = browser.find_element(By.NAME,\"user\")\n",
    "#name.send_keys(\"账号\")\n",
    "\n"
   ]
  },
  {
   "cell_type": "code",
   "execution_count": null,
   "metadata": {},
   "outputs": [],
   "source": [
    "browser.get(\"https://www.bohmbijoux.com/fr/catalogue/33\")"
   ]
  },
  {
   "cell_type": "code",
   "execution_count": null,
   "metadata": {},
   "outputs": [],
   "source": [
    "js = '''\n",
    "                let height = 0\n",
    "        let interval = setInterval(() => {\n",
    "            window.scrollTo({\n",
    "                top: height,\n",
    "                behavior: \"smooth\"\n",
    "            });\n",
    "            height += 5000\n",
    "        }, 500);\n",
    "        setTimeout(() => {\n",
    "            clearInterval(interval)\n",
    "        }, 7000);\n",
    "'''\n",
    "browser.execute_script(js)\n",
    "time.sleep(50)\n",
    "bs = BeautifulSoup(driver.page_source, \"html.parser\")"
   ]
  },
  {
   "cell_type": "code",
   "execution_count": null,
   "metadata": {},
   "outputs": [],
   "source": [
    "from bs4 import BeautifulSoup \n",
    "bs = BeautifulSoup(browser.page_source, \"html.parser\")\n"
   ]
  },
  {
   "cell_type": "code",
   "execution_count": null,
   "metadata": {},
   "outputs": [],
   "source": [
    "len(bs.find_all(\"div\",{\"class\":\"catalogue-content_article_item\"}))"
   ]
  },
  {
   "cell_type": "code",
   "execution_count": null,
   "metadata": {},
   "outputs": [],
   "source": [
    "web_url = \"https://www.bohmbijoux.com/fr/catalogue/33\"\n",
    "driver = webdriver.Chrome(executable_path=\"C:\\\\Program Files\\\\Google\\\\Chrome\\\\Application\\\\chrome.exe\")\n",
    "driver.get(\"https://www.bohmbijoux.com/fr/catalogue/33\")"
   ]
  },
  {
   "cell_type": "code",
   "execution_count": null,
   "metadata": {},
   "outputs": [],
   "source": [
    "options = webdriver.ChromeOptions()\n",
    "options.binary_location = \"C:\\\\Program Files\\\\Google\\\\Chrome\\\\Application\\\\chrome.exe\"\n",
    "driver = webdriver.Chrome(\"C:\\\\Program Files\\\\Google\\\\Chrome\\\\Application\\\\chrome.exe\")\n",
    "driver.get(\"https://www.bohmbijoux.com/fr/catalogue/33\")\n",
    "\n",
    "js = '''\n",
    "            let height = 0\n",
    "    let interval = setInterval(() => {\n",
    "        window.scrollTo({\n",
    "            top: height,\n",
    "            behavior: \"smooth\"\n",
    "        });\n",
    "        height += 500\n",
    "    }, 500);\n",
    "    setTimeout(() => {\n",
    "        clearInterval(interval)\n",
    "    }, 7000);\n",
    "'''\n",
    "driver.execute_script(js)\n",
    "time.sleep(150)\n",
    "bs = BeautifulSoup(driver.page_source, \"html.parser\")\n",
    "#driver.close()\n",
    "\n"
   ]
  },
  {
   "cell_type": "code",
   "execution_count": null,
   "metadata": {},
   "outputs": [],
   "source": [
    "header = {\n",
    "        ########添加了一个用于记录登录数据的cookie在cookie刷新时记得要进行更换\n",
    "        'user-agent': 'Mozilla/5.0 (Windows NT 10.0; Win64; x64) AppleWebKit/537.36 (KHTML, like Gecko) Chrome/105.0.0.0 Safari/537.36',\n",
    "        'Cookie': '_ga=GA1.2.946957660.1666622284; _gid=GA1.2.207023627.1666622284; PHPSESSID=3msuvso5rbi1vppshgangebv9v'\n",
    "    }"
   ]
  },
  {
   "cell_type": "code",
   "execution_count": null,
   "metadata": {},
   "outputs": [],
   "source": [
    "soup = BeautifulSoup(requests.get(mainurl,headers=header).text, \"html.parser\")"
   ]
  },
  {
   "cell_type": "code",
   "execution_count": null,
   "metadata": {},
   "outputs": [],
   "source": [
    "container=soup.find('div',{\"id\",\"catalogue-content_article-container\"})"
   ]
  },
  {
   "cell_type": "code",
   "execution_count": null,
   "metadata": {},
   "outputs": [],
   "source": [
    "container"
   ]
  },
  {
   "cell_type": "code",
   "execution_count": null,
   "metadata": {},
   "outputs": [],
   "source": [
    "soup"
   ]
  }
 ],
 "metadata": {
  "kernelspec": {
   "display_name": "Python 3.9.0 64-bit",
   "language": "python",
   "name": "python3"
  },
  "language_info": {
   "codemirror_mode": {
    "name": "ipython",
    "version": 3
   },
   "file_extension": ".py",
   "mimetype": "text/x-python",
   "name": "python",
   "nbconvert_exporter": "python",
   "pygments_lexer": "ipython3",
   "version": "3.9.0"
  },
  "orig_nbformat": 4,
  "vscode": {
   "interpreter": {
    "hash": "4f95cac2866d48a154725f15da66ad3889a01053732bcd1fedad154961939282"
   }
  }
 },
 "nbformat": 4,
 "nbformat_minor": 2
}
